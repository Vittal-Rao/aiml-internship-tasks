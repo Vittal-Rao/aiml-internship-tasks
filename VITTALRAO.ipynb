{
  "nbformat": 4,
  "nbformat_minor": 0,
  "metadata": {
    "colab": {
      "provenance": [],
      "authorship_tag": "ABX9TyN1tTugYqv/P62tvH5uHNNU",
      "include_colab_link": true
    },
    "kernelspec": {
      "name": "python3",
      "display_name": "Python 3"
    },
    "language_info": {
      "name": "python"
    }
  },
  "cells": [
    {
      "cell_type": "markdown",
      "metadata": {
        "id": "view-in-github",
        "colab_type": "text"
      },
      "source": [
        "<a href=\"https://colab.research.google.com/github/Vittal-Rao/aiml-internship-tasks/blob/main/VITTALRAO.ipynb\" target=\"_parent\"><img src=\"https://colab.research.google.com/assets/colab-badge.svg\" alt=\"Open In Colab\"/></a>"
      ]
    },
    {
      "cell_type": "markdown",
      "source": [
        "TASK 1: PASSWORD GENERATOR"
      ],
      "metadata": {
        "id": "oujjZiNBY0Jh"
      }
    },
    {
      "cell_type": "code",
      "source": [
        "import random\n",
        "import string\n",
        "\n",
        "def generate_password(length, use_uppercase=True, use_digits=True, use_specials=True):\n",
        "    if length <= 0:\n",
        "        return \"Error: Password length must be greater than 0.\"\n",
        "\n",
        "    characters = string.ascii_lowercase\n",
        "    required_chars = [random.choice(string.ascii_lowercase)]\n",
        "\n",
        "    if use_uppercase:\n",
        "        characters += string.ascii_uppercase\n",
        "        required_chars.append(random.choice(string.ascii_uppercase))\n",
        "    if use_digits:\n",
        "        characters += string.digits\n",
        "        required_chars.append(random.choice(string.digits))\n",
        "    if use_specials:\n",
        "        characters += string.punctuation\n",
        "        required_chars.append(random.choice(string.punctuation))\n",
        "\n",
        "    if not characters:\n",
        "        return \"Error: No character sets selected!\"\n",
        "\n",
        "    remaining_length = length - len(required_chars)\n",
        "    if remaining_length < 0:\n",
        "        return \"Error: Password length too short for selected options.\"\n",
        "\n",
        "    password = required_chars + [random.choice(characters) for _ in range(remaining_length)]\n",
        "    random.shuffle(password)\n",
        "    return ''.join(password)\n",
        "\n",
        "print(\"PASSWORD GENERATOR\")\n",
        "\n",
        "while True:\n",
        "    try:\n",
        "        length = int(input(\"\\nEnter password length (minimum 4 recommended): \"))\n",
        "        if length <= 0:\n",
        "            print(\"Please enter a positive integer.\")\n",
        "            continue\n",
        "        break\n",
        "    except ValueError:\n",
        "        print(\"Invalid input. Please enter a valid number.\")\n",
        "\n",
        "use_upper = input(\"Include uppercase letters? (y/n): \").strip().lower() == 'y'\n",
        "use_digits = input(\"Include digits? (y/n): \").strip().lower() == 'y'\n",
        "use_specials = input(\"Include special characters? (y/n): \").strip().lower() == 'y'\n",
        "\n",
        "min_required = 1 + sum([use_upper, use_digits, use_specials])\n",
        "if length < min_required:\n",
        "    print(f\"Selected options require at least {min_required} characters.\")\n",
        "    length = min_required\n",
        "    print(f\"Password length adjusted to {length}.\")\n",
        "\n",
        "password = generate_password(length, use_upper, use_digits, use_specials)\n",
        "print(f\"\\nGenerated Password: {password}\")\n"
      ],
      "metadata": {
        "colab": {
          "base_uri": "https://localhost:8080/"
        },
        "id": "RheZbg_YY_eh",
        "outputId": "c0d07132-cfe1-4696-d26b-283d0c6abd44"
      },
      "execution_count": null,
      "outputs": [
        {
          "output_type": "stream",
          "name": "stdout",
          "text": [
            "PASSWORD GENERATOR\n",
            "\n",
            "Enter password length (minimum 4 recommended): 0162\n",
            "Include uppercase letters? (y/n): Y\n",
            "Include digits? (y/n): N\n",
            "Include special characters? (y/n): Y\n",
            "\n",
            "Generated Password: vnP@d=Xob~@\"FIA{l],ZISJhI+Q{OT!,t\"(co^$MjV\"~jJO%`vP*fmmej\"mTr|\"*xm=qF:dV!RYgH<K][#OV'vDXb,VAB-SAX?p<nM#qa\\t)%SCW$/iU@Jp|}g@g`\"%Wrvfyt/V:e\\qe}<l&IQ__'KCfKszIG).{Mc\n"
          ]
        }
      ]
    },
    {
      "cell_type": "markdown",
      "source": [
        "TASK 2 : TO-DO LIST APP"
      ],
      "metadata": {
        "id": "KQg5nzp2aEo4"
      }
    },
    {
      "cell_type": "code",
      "source": [
        "todo_list = []\n",
        "\n",
        "def show_menu():\n",
        "    print(\"\\nTo-Do List Menu:\")\n",
        "    print(\"1. Add task\")\n",
        "    print(\"2. View tasks\")\n",
        "    print(\"3. Mark task as completed\")\n",
        "    print(\"4. Delete task\")\n",
        "    print(\"5. Exit\")\n",
        "\n",
        "def view_tasks():\n",
        "    if not todo_list:\n",
        "        print(\"\\nNo tasks in the list.\")\n",
        "    else:\n",
        "        print(\"\\nYour Tasks:\")\n",
        "        for i, task in enumerate(todo_list, start=1):\n",
        "            status = \"Completed\" if task['completed'] else \"Pending\"\n",
        "            print(f\"{i}. {task['task']} [{status}]\")\n",
        "\n",
        "def add_task():\n",
        "    task = input(\"Enter the task description: \").strip()\n",
        "    if task:\n",
        "        todo_list.append({'task': task, 'completed': False})\n",
        "        print(\"Task added successfully.\")\n",
        "    else:\n",
        "        print(\"Task description cannot be empty.\")\n",
        "\n",
        "def mark_task_completed():\n",
        "    view_tasks()\n",
        "    try:\n",
        "        idx = int(input(\"Enter task number to mark as completed: \")) - 1\n",
        "        if 0 <= idx < len(todo_list):\n",
        "            if todo_list[idx]['completed']:\n",
        "                print(\"Task is already marked as completed.\")\n",
        "            else:\n",
        "                todo_list[idx]['completed'] = True\n",
        "                print(\"Task marked as completed.\")\n",
        "        else:\n",
        "            print(\"Invalid task number.\")\n",
        "    except ValueError:\n",
        "        print(\"Please enter a valid number.\")\n",
        "\n",
        "def delete_task():\n",
        "    view_tasks()\n",
        "    try:\n",
        "        idx = int(input(\"Enter task number to delete: \")) - 1\n",
        "        if 0 <= idx < len(todo_list):\n",
        "            removed = todo_list.pop(idx)\n",
        "            print(f\"Task '{removed['task']}' deleted.\")\n",
        "        else:\n",
        "            print(\"Invalid task number.\")\n",
        "    except ValueError:\n",
        "        print(\"Please enter a valid number.\")\n",
        "\n",
        "while True:\n",
        "    show_menu()\n",
        "    choice = input(\"Choose an option (1-5): \").strip()\n",
        "\n",
        "    if choice == '1':\n",
        "        add_task()\n",
        "    elif choice == '2':\n",
        "        view_tasks()\n",
        "    elif choice == '3':\n",
        "        mark_task_completed()\n",
        "    elif choice == '4':\n",
        "        delete_task()\n",
        "    elif choice == '5':\n",
        "        print(\"Exiting To-Do List. Goodbye.\")\n",
        "        break\n",
        "    else:\n",
        "        print(\"Invalid choice. Please try again.\")\n"
      ],
      "metadata": {
        "colab": {
          "base_uri": "https://localhost:8080/"
        },
        "id": "HXaMXNUUaQjM",
        "outputId": "965a7d90-eef9-4201-cdd9-4c05a7ccdaa7"
      },
      "execution_count": null,
      "outputs": [
        {
          "output_type": "stream",
          "name": "stdout",
          "text": [
            "\n",
            "To-Do List Menu:\n",
            "1. Add task\n",
            "2. View tasks\n",
            "3. Mark task as completed\n",
            "4. Delete task\n",
            "5. Exit\n",
            "Choose an option (1-5): 1\n",
            "Enter the task description: PYTHON  NOTEBOOK TASK\n",
            "Task added successfully.\n",
            "\n",
            "To-Do List Menu:\n",
            "1. Add task\n",
            "2. View tasks\n",
            "3. Mark task as completed\n",
            "4. Delete task\n",
            "5. Exit\n",
            "Choose an option (1-5): 2\n",
            "\n",
            "Your Tasks:\n",
            "1. PYTHON  NOTEBOOK TASK [Pending]\n",
            "\n",
            "To-Do List Menu:\n",
            "1. Add task\n",
            "2. View tasks\n",
            "3. Mark task as completed\n",
            "4. Delete task\n",
            "5. Exit\n",
            "Choose an option (1-5): 3\n",
            "\n",
            "Your Tasks:\n",
            "1. PYTHON  NOTEBOOK TASK [Pending]\n",
            "Enter task number to mark as completed: 1\n",
            "Task marked as completed.\n",
            "\n",
            "To-Do List Menu:\n",
            "1. Add task\n",
            "2. View tasks\n",
            "3. Mark task as completed\n",
            "4. Delete task\n",
            "5. Exit\n",
            "Choose an option (1-5): 2\n",
            "\n",
            "Your Tasks:\n",
            "1. PYTHON  NOTEBOOK TASK [Completed]\n",
            "\n",
            "To-Do List Menu:\n",
            "1. Add task\n",
            "2. View tasks\n",
            "3. Mark task as completed\n",
            "4. Delete task\n",
            "5. Exit\n",
            "Choose an option (1-5): 5\n",
            "Exiting To-Do List. Goodbye.\n"
          ]
        }
      ]
    }
  ]
}