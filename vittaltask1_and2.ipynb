{
  "nbformat": 4,
  "nbformat_minor": 0,
  "metadata": {
    "colab": {
      "provenance": [],
      "authorship_tag": "ABX9TyNeNAToMRyTOYIDDp9hFrNK",
      "include_colab_link": true
    },
    "kernelspec": {
      "name": "python3",
      "display_name": "Python 3"
    },
    "language_info": {
      "name": "python"
    }
  },
  "cells": [
    {
      "cell_type": "markdown",
      "metadata": {
        "id": "view-in-github",
        "colab_type": "text"
      },
      "source": [
        "<a href=\"https://colab.research.google.com/github/Vittal-Rao/aiml-internship-tasks/blob/main/vittaltask1_and2.ipynb\" target=\"_parent\"><img src=\"https://colab.research.google.com/assets/colab-badge.svg\" alt=\"Open In Colab\"/></a>"
      ]
    },
    {
      "cell_type": "markdown",
      "source": [
        "TASK 1 :- PASSWORD GENERATOR"
      ],
      "metadata": {
        "id": "9WmNhADoMh-x"
      }
    },
    {
      "cell_type": "code",
      "execution_count": null,
      "metadata": {
        "colab": {
          "base_uri": "https://localhost:8080/"
        },
        "id": "6Die3PKMLjP6",
        "outputId": "8e3d2feb-bd35-4489-e157-9b5764ba8dc8"
      },
      "outputs": [
        {
          "output_type": "stream",
          "name": "stdout",
          "text": [
            " Password Generator \n",
            "Enter password length (minimum 4 recommended): 0123\n",
            "Include uppercase letters? (y/n): y\n",
            "Include digits? (y/n): n\n",
            "Include special characters? (y/n): y\n",
            "\n",
            " Generated Password: Lmom\":Zn^rKvfWA]'QgU.&L&P};@LcZk.kh/UL&T:U/fsmhet__b'p**W>AK+>uGOVO%Cs;HQ|,]o^V[amjd|~p;bQA/^fARmcW_iO.)Q(tf?SiW[;jx;vEYo:u\n"
          ]
        }
      ],
      "source": [
        "import random\n",
        "import string\n",
        "\n",
        "def generate_password(length, use_uppercase=True, use_digits=True, use_specials=True):\n",
        "    if length <= 0:\n",
        "        return \" Password length must be greater than 0.\"\n",
        "\n",
        "    characters = string.ascii_lowercase\n",
        "    required_chars = [random.choice(string.ascii_lowercase)]\n",
        "\n",
        "    if use_uppercase:\n",
        "        characters += string.ascii_uppercase\n",
        "        required_chars.append(random.choice(string.ascii_uppercase))\n",
        "    if use_digits:\n",
        "        characters += string.digits\n",
        "        required_chars.append(random.choice(string.digits))\n",
        "    if use_specials:\n",
        "        characters += string.punctuation\n",
        "        required_chars.append(random.choice(string.punctuation))\n",
        "\n",
        "    if not characters:\n",
        "        return \" No character sets selected!\"\n",
        "\n",
        "    remaining_length = length - len(required_chars)\n",
        "    if remaining_length < 0:\n",
        "        return \" Password length too short for selected options.\"\n",
        "\n",
        "    password = required_chars + [random.choice(characters) for _ in range(remaining_length)]\n",
        "    random.shuffle(password)\n",
        "    return ''.join(password)\n",
        "\n",
        "print(\" Password Generator \")\n",
        "\n",
        "while True:\n",
        "    try:\n",
        "        length = int(input(\"Enter password length (minimum 4 recommended): \"))\n",
        "        if length <= 0:\n",
        "            print(\" Please enter a positive integer.\")\n",
        "            continue\n",
        "        break\n",
        "    except ValueError:\n",
        "        print(\" Please enter a valid number.\")\n",
        "\n",
        "use_upper = input(\"Include uppercase letters? (y/n): \").strip().lower() == 'y'\n",
        "use_digits = input(\"Include digits? (y/n): \").strip().lower() == 'y'\n",
        "use_specials = input(\"Include special characters? (y/n): \").strip().lower() == 'y'\n",
        "\n",
        "password = generate_password(length, use_upper, use_digits, use_specials)\n",
        "print(f\"\\n Generated Password: {password}\")\n"
      ]
    },
    {
      "cell_type": "markdown",
      "source": [
        "TASK 2 :- \tTo-Do List App"
      ],
      "metadata": {
        "id": "Kh7UDEonMvyr"
      }
    },
    {
      "cell_type": "code",
      "source": [
        "todo_list = []\n",
        "\n",
        "def show_menu():\n",
        "    print(\"\\nTo-Do List Menu:\")\n",
        "    print(\"1. Add task\")\n",
        "    print(\"2. View tasks\")\n",
        "    print(\"3. Mark task as completed\")\n",
        "    print(\"4. Delete task\")\n",
        "    print(\"5. Exit\")\n",
        "\n",
        "def view_tasks():\n",
        "    if not todo_list:\n",
        "        print(\"\\nNo tasks in the list.\")\n",
        "    else:\n",
        "        print(\"\\nYour Tasks:\")\n",
        "        for i, task in enumerate(todo_list, start=1):\n",
        "            status = \"Completed\" if task['completed'] else \"Pending\"\n",
        "            print(f\"{i}. {task['task']} [{status}]\")\n",
        "\n",
        "def add_task():\n",
        "    task = input(\"Enter the task description: \").strip()\n",
        "    if task:\n",
        "        todo_list.append({'task': task, 'completed': False})\n",
        "        print(\"Task added successfully!\")\n",
        "    else:\n",
        "        print(\"Task description cannot be empty.\")\n",
        "\n",
        "def mark_task_completed():\n",
        "    view_tasks()\n",
        "    try:\n",
        "        idx = int(input(\"Enter task number to mark as completed: \")) - 1\n",
        "        if 0 <= idx < len(todo_list):\n",
        "            todo_list[idx]['completed'] = True\n",
        "            print(\"Task marked as completed!\")\n",
        "        else:\n",
        "            print(\"Invalid task number.\")\n",
        "    except ValueError:\n",
        "        print(\"Please enter a valid number.\")\n",
        "\n",
        "def delete_task():\n",
        "    view_tasks()\n",
        "    try:\n",
        "        idx = int(input(\"Enter task number to delete: \")) - 1\n",
        "        if 0 <= idx < len(todo_list):\n",
        "            removed = todo_list.pop(idx)\n",
        "            print(f\"Task '{removed['task']}' deleted.\")\n",
        "        else:\n",
        "            print(\"Invalid task number.\")\n",
        "    except ValueError:\n",
        "        print(\"Please enter a valid number.\")\n",
        "\n",
        "while True:\n",
        "    show_menu()\n",
        "    choice = input(\"Choose an option (1-5): \").strip()\n",
        "\n",
        "    if choice == '1':\n",
        "        add_task()\n",
        "    elif choice == '2':\n",
        "        view_tasks()\n",
        "    elif choice == '3':\n",
        "        mark_task_completed()\n",
        "    elif choice == '4':\n",
        "        delete_task()\n",
        "    elif choice == '5':\n",
        "        print(\"Exiting To-Do List. Goodbye!\")\n",
        "        break\n",
        "    else:\n",
        "        print(\"Invalid choice. Please try again.\")\n"
      ],
      "metadata": {
        "colab": {
          "base_uri": "https://localhost:8080/"
        },
        "id": "atjnkvEKN3zL",
        "outputId": "01cb0b7d-0bf0-4c32-963a-41e8f3a64a4e"
      },
      "execution_count": null,
      "outputs": [
        {
          "output_type": "stream",
          "name": "stdout",
          "text": [
            "\n",
            "To-Do List Menu:\n",
            "1. Add task\n",
            "2. View tasks\n",
            "3. Mark task as completed\n",
            "4. Delete task\n",
            "5. Exit\n",
            "Choose an option (1-5): 1\n",
            "Enter the task description: MEETING AT 9.00AM\n",
            "Task added successfully!\n",
            "\n",
            "To-Do List Menu:\n",
            "1. Add task\n",
            "2. View tasks\n",
            "3. Mark task as completed\n",
            "4. Delete task\n",
            "5. Exit\n",
            "Choose an option (1-5): 2\n",
            "\n",
            "Your Tasks:\n",
            "1. MEETING AT 9.00AM [Pending]\n",
            "\n",
            "To-Do List Menu:\n",
            "1. Add task\n",
            "2. View tasks\n",
            "3. Mark task as completed\n",
            "4. Delete task\n",
            "5. Exit\n",
            "Choose an option (1-5): 3\n",
            "\n",
            "Your Tasks:\n",
            "1. MEETING AT 9.00AM [Pending]\n",
            "Enter task number to mark as completed: 4\n",
            "Invalid task number.\n",
            "\n",
            "To-Do List Menu:\n",
            "1. Add task\n",
            "2. View tasks\n",
            "3. Mark task as completed\n",
            "4. Delete task\n",
            "5. Exit\n",
            "Choose an option (1-5): 5\n",
            "Exiting To-Do List. Goodbye!\n"
          ]
        }
      ]
    }
  ]
}